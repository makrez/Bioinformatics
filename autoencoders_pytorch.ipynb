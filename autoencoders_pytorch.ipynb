{
  "nbformat": 4,
  "nbformat_minor": 0,
  "metadata": {
    "colab": {
      "provenance": [],
      "authorship_tag": "ABX9TyOywjO44/eeHRf+afFBCEcr",
      "include_colab_link": true
    },
    "kernelspec": {
      "name": "python3",
      "display_name": "Python 3"
    },
    "language_info": {
      "name": "python"
    }
  },
  "cells": [
    {
      "cell_type": "markdown",
      "metadata": {
        "id": "view-in-github",
        "colab_type": "text"
      },
      "source": [
        "<a href=\"https://colab.research.google.com/github/makrez/BioinformaticsTools/blob/master/autoencoders_pytorch.ipynb\" target=\"_parent\"><img src=\"https://colab.research.google.com/assets/colab-badge.svg\" alt=\"Open In Colab\"/></a>"
      ]
    },
    {
      "cell_type": "markdown",
      "source": [
        "## Read data"
      ],
      "metadata": {
        "id": "xlf8LK0mAixx"
      }
    },
    {
      "cell_type": "code",
      "source": [
        "import re\n",
        "import os\n",
        "!pip install biopython\n",
        "from Bio import SeqIO\n",
        "import numpy as np\n",
        "from sklearn.preprocessing import LabelEncoder, OneHotEncoder"
      ],
      "metadata": {
        "colab": {
          "base_uri": "https://localhost:8080/"
        },
        "id": "hGSiwyl5BGR-",
        "outputId": "7df512cd-7b1d-400a-e16b-302cf9a58f84"
      },
      "execution_count": 244,
      "outputs": [
        {
          "output_type": "stream",
          "name": "stdout",
          "text": [
            "Looking in indexes: https://pypi.org/simple, https://us-python.pkg.dev/colab-wheels/public/simple/\n",
            "Requirement already satisfied: biopython in /usr/local/lib/python3.10/dist-packages (1.81)\n",
            "Requirement already satisfied: numpy in /usr/local/lib/python3.10/dist-packages (from biopython) (1.22.4)\n"
          ]
        }
      ]
    },
    {
      "cell_type": "code",
      "source": [
        "from google.colab import drive\n",
        "drive.mount('/content/drive')"
      ],
      "metadata": {
        "colab": {
          "base_uri": "https://localhost:8080/"
        },
        "id": "rpxzarJ9AlJW",
        "outputId": "8ffe0479-c369-4ee0-da67-0515c694bf49"
      },
      "execution_count": 245,
      "outputs": [
        {
          "output_type": "stream",
          "name": "stdout",
          "text": [
            "Drive already mounted at /content/drive; to attempt to forcibly remount, call drive.mount(\"/content/drive\", force_remount=True).\n"
          ]
        }
      ]
    },
    {
      "cell_type": "code",
      "source": [
        "import numpy as np\n",
        "from sklearn.preprocessing import OneHotEncoder\n",
        "\n",
        "class hot_dna:\n",
        "    def __init__(self, sequence):\n",
        "        sequence = sequence.upper()\n",
        "        self.sequence = self._preprocess_sequence(sequence)\n",
        "        self.category_mapping = {'A': 0, 'C': 1, 'G': 2, 'T': 3, 'U': 3, '-': 4, 'N': 5}\n",
        "        self.onehot = self._onehot_encode(self.sequence)\n",
        "\n",
        "    def _preprocess_sequence(self, sequence):\n",
        "        ambiguous_bases = {'R', 'Y', 'S', 'W', 'K', 'M', 'B', 'D', 'H', 'V'}\n",
        "        new_sequence = \"\"\n",
        "        for base in sequence:\n",
        "            if base in ambiguous_bases:\n",
        "                new_sequence += 'N'\n",
        "            else:\n",
        "                new_sequence += base\n",
        "        return new_sequence\n",
        "\n",
        "    def _onehot_encode(self, sequence):\n",
        "        integer_encoded = np.array([self.category_mapping[char] for char in sequence]).reshape(-1, 1)\n",
        "        onehot_encoder = OneHotEncoder(sparse=False, categories='auto', handle_unknown='ignore')\n",
        "        onehot_encoded = onehot_encoder.fit_transform(integer_encoded)\n",
        "        \n",
        "        # Fill missing channels with zeros\n",
        "        full_onehot_encoded = np.zeros((len(sequence), 6))\n",
        "        full_onehot_encoded[:, :onehot_encoded.shape[1]] = onehot_encoded\n",
        "        \n",
        "        return full_onehot_encoded\n",
        "\n"
      ],
      "metadata": {
        "id": "9iMi51XpBjb_"
      },
      "execution_count": 246,
      "outputs": []
    },
    {
      "cell_type": "code",
      "source": [
        "flatted_sequence = list()\n",
        "sequence_labels = list()\n",
        "\n",
        "alignment_length = 1500\n",
        "\n",
        "with open('drive/MyDrive/Colab Notebooks/autoencoder_data/bacillus.aln') as handle:\n",
        "  for record in SeqIO.parse(handle, 'fasta'):\n",
        "    label = str(record.description).rsplit(';', 1)[-1]\n",
        "    seq_hot = hot_dna(str(record.seq)[10:alignment_length+10]).onehot\n",
        "    \n",
        "    if len(seq_hot) == alignment_length:\n",
        "      flatted_sequence.append(seq_hot)\n",
        "      sequence_labels.append(label)"
      ],
      "metadata": {
        "id": "iSokn025BEBS"
      },
      "execution_count": null,
      "outputs": []
    },
    {
      "cell_type": "code",
      "source": [],
      "metadata": {
        "id": "_5-ld9fSKKIb"
      },
      "execution_count": 247,
      "outputs": []
    },
    {
      "cell_type": "code",
      "source": [
        "from Bio import AlignIO\n",
        "from collections import Counter\n",
        "\n",
        "def summarize_msa(file_path, num_lines_to_display=5):\n",
        "    alignment = AlignIO.read(file_path, 'fasta')\n",
        "    num_sequences = len(alignment)\n",
        "    alignment_length = alignment.get_alignment_length()\n",
        "\n",
        "    # Count occurrences of each base and gaps\n",
        "    counts = Counter()\n",
        "    total_bases = num_sequences * alignment_length\n",
        "    for record in alignment:\n",
        "        counts.update(record.seq)\n",
        "        \n",
        "    # Calculate the percentages\n",
        "    percentages = {base: (count / total_bases) * 100 for base, count in counts.items()}\n",
        "\n",
        "    print(f\"Number of sequences: {num_sequences}\")\n",
        "    print(f\"Alignment length: {alignment_length}\")\n",
        "    print(\"\\nPercentages of bases and gaps:\")\n",
        "    for base, percentage in percentages.items():\n",
        "        if percentage > 0:\n",
        "            print(f\"{base}: {percentage:.2f}%\")\n",
        "    \n",
        "    print(\"\\nFirst few lines of the alignment:\")\n",
        "    for idx, record in enumerate(alignment):\n",
        "        if idx < num_lines_to_display:\n",
        "            print(f\"{record.id}: {record.seq}\")\n",
        "        else:\n",
        "            break\n",
        "\n",
        "# Read and summarize the MSA\n",
        "msa_file_path = 'drive/MyDrive/Colab Notebooks/autoencoder_data/bacillus.aln'\n",
        "summarize_msa(msa_file_path)\n",
        "\n"
      ],
      "metadata": {
        "colab": {
          "base_uri": "https://localhost:8080/"
        },
        "id": "GoYh8fqLCFEB",
        "outputId": "a6b57d2f-da37-4777-b107-db0742debd24"
      },
      "execution_count": 248,
      "outputs": [
        {
          "output_type": "stream",
          "name": "stdout",
          "text": [
            "Number of sequences: 2626\n",
            "Alignment length: 4559\n",
            "\n",
            "Percentages of bases and gaps:\n",
            "-: 35.89%\n",
            "c: 14.05%\n",
            "g: 19.88%\n",
            "u: 12.92%\n",
            "a: 17.25%\n",
            "y: 0.00%\n",
            "n: 0.00%\n",
            "r: 0.00%\n",
            "v: 0.00%\n",
            "w: 0.00%\n",
            "m: 0.00%\n",
            "s: 0.00%\n",
            "k: 0.00%\n",
            "\n",
            "First few lines of the alignment:\n",
            "CP013727.2895443.2898376: ---------------------------cgguuaaguua-ga-aagggcg--cacgguggaug-ccuuggca-cuaggagccg--aug-a-----aggacggg-acgaacac-cgauaug-c-uuc-ggggagcuguaagcaagc-uuugaucc--ggag-auuuccgaau-ggggaaacccacca-cucguaauggagu---gguauccau--a-ucugaaua--cauaggauaugagaaggcagaccc-ggggaacug-aaacaucu-aagu-accc-gg-aggaagag-aaagcaaaugcga---uucccu-gaguag-cggcgag--cg-aaacggga-ccagcccaaa-ccaagagg---cuugccucuu-ggg-g-uuguagg-acacucu-guacggag-uuacaa-aggaacg-aggua---gaugaagaggucuggaaa-ggcccgccauag---gaggu-aacag-cccugua-gucaaaac----uucgu--ucu---cuccugagugg-auccuga-------------------------------------------------------------------------------------------------------------------------------guacggcgga------acacgug--aaauuccguc-ggaauc-cgggaggacc-aucucc-caaggc-uaaau----acucccuagugaccgau---agugaaccaguacc-gug--agggaaaggug-aaaagcaccccgg-aaggggagu-gaaagagauccugaaacc--gugugcc-uacaaguag-ucaga-gcccguu--aacgggu--gau-ggcgugcc--uuuuguagaa-ug-aac-cggcgaguuacg-auc-ccgugcaag-guuaag-cagaagaugcgga-gccgcagcg-aa-agcgagu-c-ugaaua-gggcgaauu---gaguacg-uggucguag-acccgaaaccagg--ugaucuacccau-gucca-----gggugaag-uuc-a-gguaaca-cugaauggagg--cccgaaccc----acgcacguug-aaaagugc-ggggaugaggugu-ggg------------------uaggggug-aaaugcc-aaucgaaccu----ggagau-agcu-gguucuc-uccgaaauagcuuua-gggcuagccucaag-guaagagucucgga--------------gguag-agcacugau------------------------------------------------------uggac-uaggggccccuacc-ggguuacc-gaauucaguc-aaacu-ccgaaug-ccgaugac------------------------uuauccuugggaguc--agacugc------------gagugau-aag-aucc---guagucgaaa-gggaaacagcccagacc---gccagcuaa-gguccc---aaaguau-acguuaa--gugg-aaaaggauguggaguugcu---------uagacaa-ccagg-auguuggcuuag-aagcagc-cacca-uuuaaag-agugcg-uaauag---cucacuggucgagu-g-acucugcgccg--aaaauguacc-ggggcuaaacgu-----aucaccgaagcu--gcgg-acuguucuu-------cgaacagugguaggag-agcguu-cuaaggg--cugugaagc-aagaccggaa-ggacu-uguggagcgc-uu------------agaagugagaaugccgguau---gaguagcg-aaagaggggugagaa---uc-cccuccaccg----aau-gccu--aagguuuc-cugaggaa-ggcucgucc-gcuca-ggguuagucggga--ccuaagcc----gaggccgaaa-ggcgua-ggcgauggaua-acagg-uugauauucc---uguaccaccuc-c-ucaccauu---------------------------------------------------------------------------------------------------------------------------------------------------------------------------------------------------------------------------------------------------------------------------------------------------------------------------------------------------------------------------------------------------------------------------------ugagcaau-ggggggacgcaggaggau-------aggguaagcg-cgguauugg-auauccgcgu-----ccaa--gcaguu---aggcugggaaaua---ggcaaauccguuu--cccgu-gaaggcug-agcu----gugaug-gcgagcga---auuauaguagcgaaguuccu---------gauuccaca-cugccaagaaa--agccucuagcga-ggu--gagaggugcc-cguaccgc-aaaccgacacagguag-gcga---ggagagaauccu-aaggugaucgag-ag-aacucu-cguuaagg----aacucgg-c------aaaaug-a-ccccgu-aacuucgg-gagaa-ggggugcu-cuguuagggugc-aagcccgagagag-ccgc--agugaaua-gg-cccag-gcga-cug-uuuag-caaaaac--acaggu-c-----ucugcgaagccgu---aaggcg-aagua-uaggg-gcu-------------------------------------------------------------------------------------------------------------------------------------------------------------------------------------gacgccu--g-cccggugcu-gga--------agguuaagagg-agcgc-uua-gcgu--aagc-gaaggugcgaauu-gaagcccca-gu-aaacggcg--gccg--uaacuau-aacggu--ccuaa-gguagcgaaauucc-uug--ucggg-uaag---uu-ccga---cccg--cacg-aaa---ggcgc-aacgaucu-gggcacugucucaacg--agagacucg-gugaaa-uuauaguaccu-gu--gaagau-gcagguua-cccg-cgaca-ggacggaaaga-cccc--gugg-agcuuu-acugcagccugauauugaa-ug-uugguac-ag-cuugua-cagga-uagguaggagcc-uu--ggaaaccgga-gcgccagc-uuc-gguggaggca----ucgguggga--------------uacuacccu---ggcugu-auugacc-uucu-aacccgccg-cccuu-aucgggcggg-ga-gacagug-ucaggu--gggcag-uuugacu-ggggc--gguc---gccuc-cuaaa-aggu-----------aacggagg--cgccc-aaagguucccuc-agaaugguu-gg-aaauca-uucgcagagugu-aaaggcacaa-gggagcuug-acugcgaga----ccu-acaagucgagc-ag--ggacg-aaaguc-gggcuuagugau-ccggu-gg---uuccgc-augg-aagg-gccaucgcuc--aacggauaaaagc-uacccc---ggggauaacaggc-uuauc--uc-ccccaagag--uccacauc--gacgggg-agguuugg---ca-----ccucga-ugucggcuca-ucgcauccu------------------------------------------gg-ggc---uguagu-cgg--u-cccaaggguu-ggg-cuguucgcccauua-aagcgguacgcg-agcuggguucag-aacgucgu-gagacaguuc-ggucccuauccgucgc--gggcgcaggaaa-uuugagaggag-cuguccuuaguacga-gaggacc-gggauggacgcaccgcugg-ugua-ccaguug-uucugccaagg-----gcaucgcuggg-uagcuaugugc-ggacgggauaagugcugaaagcaucuaag-caugaag-ccccccucaa-gaugagauuucccauucc-gc------------------------------aaggaagu-aagauccc----------------------------ugaaaga-ugaucagguugauag-gucugaggu-ggaagugu-ggcgaca-cauggagcugacagauacuaaucgaucgaggacuuaaccaauuu-----------------------------------------\n",
            "CP013727.3739212.3742145: ---------------------------cgguuaaguua-ga-aagggcg--cacgguggaug-ccuuggca-cuaggagccg--aug-a-----aggacggg-acgaacac-cgauaug-c-uuc-ggggagcuguaagcaagc-uuugaucc--ggag-auuuccgaau-ggggaaacccacca-cucguaauggagu---gguauccau--a-ucugaaua--cauaggauaugagaaggcagaccc-ggggaacug-aaacaucu-aagu-accc-gg-aggaagag-aaagcaaaugcga---uucccu-gaguag-cggcgag--cg-aaacggga-ccagcccaaa-ccaagagg---cuugccucuu-ggg-g-uuguagg-acacucu-guacggag-uuacaa-aggaacg-aggua---gaugaagaggucuggaaa-ggcccgccauag---gaggu-aacag-cccugua-gucaaaac----uucgu--ucu---cuccugagugg-auccuga-------------------------------------------------------------------------------------------------------------------------------guacggcgga------acacgug--aaauuccguc-ggaauc-cgggaggacc-aucucc-caaggc-uaaau----acucccuagugaccgau---agugaaccaguacc-gug--agggaaaggug-aaaagcaccccgg-aaggggagu-gaaagagauccugaaacc--gugugcc-uacaaguag-ucaga-gcccguu--aacgggu--gau-ggcgugcc--uuuuguagaa-ug-aac-cggcgaguuacg-auc-ccgugcaag-guuaag-cagaagaugcgga-gccgcagcg-aa-agcgagu-c-ugaaua-gggcgaauu---gaguacg-uggucguag-acccgaaaccagg--ugaucuacccau-gucca-----gggugaag-uuc-a-gguaaca-cugaauggagg--cccgaaccc----acgcacguug-aaaagugc-ggggaugaggugu-ggg------------------uaggggug-aaaugcc-aaucgaaccu----ggagau-agcu-gguucuc-uccgaaauagcuuua-gggcuagccucaag-guaagagucucgga--------------gguag-agcacugau------------------------------------------------------uggac-uaggggccccuacc-ggguuacc-gaauucaguc-aaacu-ccgaaug-ccgaugac------------------------uuauccuugggaguc--agacugc------------gagugau-aag-aucc---guagucgaaa-gggaaacagcccagacc---gccagcuaa-gguccc---aaaguau-acguuaa--gugg-aaaaggauguggaguugcu---------uagacaa-ccagg-auguuggcuuag-aagcagc-cacca-uuuaaag-agugcg-uaauag---cucacuggucgagu-g-acucugcgccg--aaaauguacc-ggggcuaaacgu-----aucaccgaagcu--gcgg-acuguucuu-------cgaacagugguaggag-agcguu-cuaaggg--cugugaagc-aagaccggaa-ggacu-uguggagcgc-uu------------agaagugagaaugccgguau---gaguagcg-aaagaggggugagaa---uc-cccuccaccg----aau-gccu--aagguuuc-cugaggaa-ggcucgucc-gcuca-ggguuagucggga--ccuaagcc----gaggccgaaa-ggcgua-ggcgauggaua-acagg-uugauauucc---uguaccaccuc-c-ucaccauu---------------------------------------------------------------------------------------------------------------------------------------------------------------------------------------------------------------------------------------------------------------------------------------------------------------------------------------------------------------------------------------------------------------------------------ugagcaau-ggggggacgcaggaggau-------aggguaagcg-cgguauugg-auauccgcgu-----ccaa--gcaguu---aggcugggaaaua---ggcaaauccguuu--cccgu-gaaggcug-agcu----gugaug-gcgagcga---auuauaguagcgaaguuccu---------gauuccaca-cugccaagaaa--agccucuagcga-ggu--gagaggugcc-cguaccgc-aaaccgacacagguag-gcga---ggagagaauccu-aaggugaucgag-ag-aacucu-cguuaagg----aacucgg-c------aaaaug-a-ccccgu-aacuucgg-gagaa-ggggugcu-cuguuagggugc-aagcccgagagag-ccgc--agugaaua-gg-cccag-gcga-cug-uuuag-caaaaac--acaggu-c-----ucugcgaagccgu---aaggcg-aagua-uaggg-gcu-------------------------------------------------------------------------------------------------------------------------------------------------------------------------------------gacgccu--g-cccggugcu-gga--------agguuaagagg-agcgc-uua-gcgu--aagc-gaaggugcgaauu-gaagcccca-gu-aaacggcg--gccg--uaacuau-aacggu--ccuaa-gguagcgaaauucc-uug--ucggg-uaag---uu-ccga---cccg--cacg-aaa---ggcgc-aacgaucu-gggcacugucucaacg--agagacucg-gugaaa-uuauaguaccu-gu--gaagau-gcagguua-cccg-cgaca-ggacggaaaga-cccc--gugg-agcuuu-acugcagccugauauugaa-ug-uugguac-ag-cuugua-cagga-uagguaggagcc-uu--ggaaaccgga-gcgccagc-uuc-gguggaggca----ucgguggga--------------uacuacccu---ggcugu-auugacc-uucu-aacccgccg-cccuu-aucgggcggg-ga-gacagug-ucaggu--gggcag-uuugacu-ggggc--gguc---gccuc-cuaaa-aggu-----------aacggagg--cgccc-aaagguucccuc-agaaugguu-gg-aaauca-uucgcagagugu-aaaggcacaa-gggagcuug-acugcgaga----ccu-acaagucgagc-ag--ggacg-aaaguc-gggcuuagugau-ccggu-gg---uuccgc-augg-aagg-gccaucgcuc--aacggauaaaagc-uacccc---ggggauaacaggc-uuauc--uc-ccccaagag--uccacauc--gacgggg-agguuugg---ca-----ccucga-ugucggcuca-ucgcauccu------------------------------------------gg-ggc---uguagu-cgg--u-cccaaggguu-ggg-cuguucgcccauua-aagcgguacgcg-agcuggguucag-aacgucgu-gagacaguuc-ggucccuauccgucgc--gggcgcaggaaa-uuugagaggag-cuguccuuaguacga-gaggacc-gggauggacgcaccgcugg-ugua-ccaguug-uucugccaagg-----gcaucgcuggg-uagcuaugugc-ggacgggauaagugcugaaagcaucuaag-caugaag-ccccccucaa-gaugagauuucccauucc-gc------------------------------aaggaagu-aagauccc----------------------------ugaaaga-ugaucagguugauag-gucugaggu-ggaagugu-ggcgaca-cauggagcugacagauacuaaucgaucgaggacuuaaccaauuu-----------------------------------------\n",
            "CP013727.2977038.2979971: ---------------------------cgguuaaguua-ga-aagggcg--cacgguggaug-ccuuggca-cuaggagccg--aug-a-----aggacggg-acgaacac-cgauaug-c-uuc-ggggagcuguaagcaagc-uuugaucc--ggag-auuuccgaau-ggggaaacccacca-cucguaauggagu---gguauccau--a-ucugaaua--cauaggauaugagaaggcagaccc-ggggaacug-aaacaucu-aagu-accc-gg-aggaagag-aaagcaaaugcga---uucccu-gaguag-cggcgag--cg-aaacggga-ccagcccaaa-ccaagagg---cuugccucuu-ggg-g-uuguagg-acacucu-guacggag-uuacaa-aggaacg-aggua---gaugaagaggucuggaaa-ggcccgccauag---gaggu-aacag-cccugua-gucaaaac----uucgu--ucu---cuccugagugg-auccuga-------------------------------------------------------------------------------------------------------------------------------guacggcgga------acacgug--aaauuccguc-ggaauc-cgggaggacc-aucucc-caaggc-uaaau----acucccuagugaccgau---agugaaccaguacc-gug--agggaaaggug-aaaagcaccccgg-aaggggagu-gaaagagauccugaaacc--gugugcc-uacaaguag-ucaga-gcccguu--aacgggu--gau-ggcgugcc--uuuuguagaa-ug-aac-cggcgaguuacg-auc-ccgugcaag-guuaag-cagaagaugcgga-gccgcagcg-aa-agcgagu-c-ugaaua-gggcgaauu---gaguacg-uggucguag-acccgaaaccagg--ugaucuacccau-gucca-----gggugaag-uuc-a-gguaaca-cugaauggagg--cccgaaccc----acgcacguug-aaaagugc-ggggaugaggugu-ggg------------------uaggggug-aaaugcc-aaucgaaccu----ggagau-agcu-gguucuc-uccgaaauagcuuua-gggcuagccucaag-guaagagucucgga--------------gguag-agcacugau------------------------------------------------------uggac-uaggggccccuacc-ggguuacc-gaauucaguc-aaacu-ccgaaug-ccgaugac------------------------uuauccuugggaguc--agacugc------------gagugau-aag-aucc---guagucgaaa-gggaaacagcccagacc---gccagcuaa-gguccc---aaaguau-acguuaa--gugg-aaaaggauguggaguugcu---------uagacaa-ccagg-auguuggcuuag-aagcagc-cacca-uuuaaag-agugcg-uaauag---cucacuggucgagu-g-acucugcgccg--aaaauguacc-ggggcuaaacgu-----aucaccgaagcu--gcgg-acuguucuu-------cgaacagugguaggag-agcguu-cuaaggg--cugugaagc-aagaccggaa-ggacu-uguggagcgc-uu------------agaagugagaaugccgguau---gaguagcg-aaagaggggugagaa---uc-cccuccaccg----aau-gccu--aagguuuc-cugaggaa-ggcucgucc-gcuca-ggguuagucggga--ccuaagcc----gaggccgaaa-ggcgua-ggcgauggaua-acagg-uugauauucc---uguaccaccuc-c-ucaccauu---------------------------------------------------------------------------------------------------------------------------------------------------------------------------------------------------------------------------------------------------------------------------------------------------------------------------------------------------------------------------------------------------------------------------------ugagcaau-ggggggacgcaggaggau-------aggguaagcg-cgguauugg-auauccgcgu-----ccaa--gcaguu---aggcugggaaaua---ggcaaauccguuu--cccgu-gaaggcug-agcu----gugaug-gcgagcga---auuauaguagcgaaguuccu---------gauuccaca-cugccaagaaa--agccucuagcga-ggu--gagaggugcc-cguaccgc-aaaccgacacagguag-gcga---ggagagaauccu-aaggugaucgag-ag-aacucu-cguuaagg----aacucgg-c------aaaaug-a-ccccgu-aacuucgg-gagaa-ggggugcu-cuguuagggugc-aagcccgagagag-ccgc--agugaaua-gg-cccag-gcga-cug-uuuag-caaaaac--acaggu-c-----ucugcgaagccgu---aaggcg-aagua-uaggg-gcu-------------------------------------------------------------------------------------------------------------------------------------------------------------------------------------gacgccu--g-cccggugcu-gga--------agguuaagagg-agcgc-uua-gcgu--aagc-gaaggugcgaauu-gaagcccca-gu-aaacggcg--gccg--uaacuau-aacggu--ccuaa-gguagcgaaauucc-uug--ucggg-uaag---uu-ccga---cccg--cacg-aaa---ggcgc-aacgaucu-gggcacugucucaacg--agagacucg-gugaaa-uuauaguaccu-gu--gaagau-gcagguua-cccg-cgaca-ggacggaaaga-cccc--gugg-agcuuu-acugcagccugauauugaa-ug-uugguac-ag-cuugua-cagga-uagguaggagcc-uu--ggaaaccgga-gcgccagc-uuc-gguggaggca----ucgguggga--------------uacuacccu---ggcugu-auugacc-uucu-aacccgccg-cccuu-aucgggcggg-ga-gacagug-ucaggu--gggcag-uuugacu-ggggc--gguc---gccuc-cuaaa-aggu-----------aacggagg--cgccc-aaagguucccuc-agaaugguu-gg-aaauca-uucgcagagugu-aaaggcacaa-gggagcuug-acugcgaga----ccu-acaagucgagc-ag--ggacg-aaaguc-gggcuuagugau-ccggu-gg---uuccgc-augg-aagg-gccaucgcuc--aacggauaaaagc-uacccc---ggggauaacaggc-uuauc--uc-ccccaagag--uccacauc--gacgggg-agguuugg---ca-----ccucga-ugucggcuca-ucgcauccu------------------------------------------gg-ggc---uguagu-cgg--u-cccaaggguu-ggg-cuguucgcccauua-aagcgguacgcg-agcuggguucag-aacgucgu-gagacaguuc-ggucccuauccgucgc--gggcgcaggaaa-uuugagaggag-cuguccuuaguacga-gaggacc-gggauggacgcaccgcugg-ugua-ccaguug-uucugccaagg-----gcaucgcuggg-uagcuaugugc-ggacgggauaagugcugaaagcaucuaag-caugaag-ccccccucaa-gaugagauuucccauucc-gc------------------------------aaggaagu-aagauccc----------------------------ugaaaga-ugaucagguugauag-gucugaggu-ggaagugu-ggcgaca-cauggagcugacagauacuaaucgaucgaggacuuaaccaauuu-----------------------------------------\n",
            "CP013727.2917179.2920112: ---------------------------cgguuaaguua-ga-aagggcg--cacgguggaug-ccuuggca-cuaggagccg--aug-a-----aggacggg-acgaacac-cgauaug-c-uuc-ggggagcuguaagcaagc-uuugaucc--ggag-auuuccgaau-ggggaaacccacca-cucguaauggagu---gguauccau--a-ucugaaua--cauaggauaugagaaggcagaccc-ggggaacug-aaacaucu-aagu-accc-gg-aggaagag-aaagcaaaugcga---uucccu-gaguag-cggcgag--cg-aaacggga-ccagcccaaa-ccaagagg---cuugccucuu-ggg-g-uuguagg-acacucu-guacggag-uuacaa-aggaacg-aggua---gaugaagaggucuggaaa-ggcccgccauag---gaggu-aacag-cccugua-gucaaaac----uucgu--ucu---cuccugagugg-auccuga-------------------------------------------------------------------------------------------------------------------------------guacggcgga------acacgug--aaauuccguc-ggaauc-cgggaggacc-aucucc-caaggc-uaaau----acucccuagugaccgau---agugaaccaguacc-gug--agggaaaggug-aaaagcaccccgg-aaggggagu-gaaagagauccugaaacc--gugugcc-uacaaguag-ucaga-gcccguu--aacgggu--gau-ggcgugcc--uuuuguagaa-ug-aac-cggcgaguuacg-auc-ccgugcaag-guuaag-cagaagaugcgga-gccgcagcg-aa-agcgagu-c-ugaaua-gggcgaauu---gaguacg-uggucguag-acccgaaaccagg--ugaucuacccau-gucca-----gggugaag-uuc-a-gguaaca-cugaauggagg--cccgaaccc----acgcacguug-aaaagugc-ggggaugaggugu-ggg------------------uaggggug-aaaugcc-aaucgaaccu----ggagau-agcu-gguucuc-uccgaaauagcuuua-gggcuagccucaag-guaagagucucgga--------------gguag-agcacugau------------------------------------------------------uggac-uaggggccccuacc-ggguuacc-gaauucaguc-aaacu-ccgaaug-ccgaugac------------------------uuauccuugggaguc--agacugc------------gagugau-aag-aucc---guagucgaaa-gggaaacagcccagacc---gccagcuaa-gguccc---aaaguau-acguuaa--gugg-aaaaggauguggaguugcu---------uagacaa-ccagg-auguuggcuuag-aagcagc-cacca-uuuaaag-agugcg-uaauag---cucacuggucgagu-g-acucugcgccg--aaaauguacc-ggggcuaaacgu-----aucaccgaagcu--gcgg-acuguucuu-------cgaacagugguaggag-agcguu-cuaaggg--cugugaagc-aagaccggaa-ggacu-uguggagcgc-uu------------agaagugagaaugccgguau---gaguagcg-aaagaggggugagaa---uc-cccuccaccg----aau-gccu--aagguuuc-cugaggaa-ggcucgucc-gcuca-ggguuagucggga--ccuaagcc----gaggccgaaa-ggcgua-ggcgauggaua-acagg-uugauauucc---uguaccaccuc-c-ucaccauu---------------------------------------------------------------------------------------------------------------------------------------------------------------------------------------------------------------------------------------------------------------------------------------------------------------------------------------------------------------------------------------------------------------------------------ugagcaau-ggggggacgcaggaggau-------aggguaagcg-cgguauugg-auauccgcgu-----ccaa--gcaguu---aggcugggaaaua---ggcaaauccguuu--cccgu-gaaggcug-agcu----gugaug-gcgagcga---auuauaguagcgaaguuccu---------gauuccaca-cugccaagaaa--agccucuagcga-ggu--gagaggugcc-cguaccgc-aaaccgacacagguag-gcga---ggagagaauccu-aaggugaucgag-ag-aacucu-cguuaagg----aacucgg-c------aaaaug-a-ccccgu-aacuucgg-gagaa-ggggugcu-cuguuagggugc-aagcccgagagag-ccgc--agugaaua-gg-cccag-gcga-cug-uuuag-caaaaac--acaggu-c-----ucugcgaagccgu---aaggcg-aagua-uaggg-gcu-------------------------------------------------------------------------------------------------------------------------------------------------------------------------------------gacgccu--g-cccggugcu-gga--------agguuaagagg-agcgc-uua-gcgu--aagc-gaaggugcgaauu-gaagcccca-gu-aaacggcg--gccg--uaacuau-aacggu--ccuaa-gguagcgaaauucc-uug--ucggg-uaag---uu-ccga---cccg--cacg-aaa---ggcgc-aacgaucu-gggcacugucucaacg--agagacucg-gugaaa-uuauaguaccu-gu--gaagau-gcagguua-cccg-cgaca-ggacggaaaga-cccc--gugg-agcuuu-acugcagccugauauugaa-ug-uugguac-ag-cuugua-cagga-uagguaggagcc-uu--ggaaaccgga-gcgccagc-uuc-gguggaggca----ucgguggga--------------uacuacccu---ggcugu-auugacc-uucu-aacccgccg-cccuu-aucgggcggg-ga-gacagug-ucaggu--gggcag-uuugacu-ggggc--gguc---gccuc-cuaaa-aggu-----------aacggagg--cgccc-aaagguucccuc-agaaugguu-gg-aaauca-uucgcagagugu-aaaggcacaa-gggagcuug-acugcgaga----ccu-acaagucgagc-ag--ggacg-aaaguc-gggcuuagugau-ccggu-gg---uuccgc-augg-aagg-gccaucgcuc--aacggauaaaagc-uacccc---ggggauaacaggc-uuauc--uc-ccccaagag--uccacauc--gacgggg-agguuugg---ca-----ccucga-ugucggcuca-ucgcauccu------------------------------------------gg-ggc---uguagu-cgg--u-cccaaggguu-ggg-cuguucgcccauua-aagcgguacgcg-agcuggguucag-aacgucgu-gagacaguuc-ggucccuauccgucgc--gggcgcaggaaa-uuugagaggag-cuguccuuaguacga-gaggacc-gggauggacgcaccgcugg-ugua-ccaguug-uucugccaagg-----gcaucgcuggg-uagcuaugugc-ggacgggauaagugcugaaagcaucuaag-caugaag-ccccccucaa-gaugagauuucccauucc-gc------------------------------aaggaagu-aagauccc----------------------------ugaaaga-ugaucagguugauag-gucugaggu-ggaagugu-ggcgaca-cauggagcugacagauacuaaucgaucgaggacuuaaccaauuu-----------------------------------------\n",
            "CP013727.3059769.3062702: ---------------------------cgguuaaguua-ga-aagggcg--cacgguggaug-ccuuggca-cuaggagccg--aug-a-----aggacggg-acgaacac-cgauaug-c-uuc-ggggagcuguaagcaagc-uuugaucc--ggag-auuuccgaau-ggggaaacccacca-cucguaauggagu---gguauccau--a-ucugaaua--cauaggauaugagaaggcagaccc-ggggaacug-aaacaucu-aagu-accc-gg-aggaagag-aaagcaaaugcga---uucccu-gaguag-cggcgag--cg-aaacggga-ccagcccaaa-ccaagagg---cuugccucuu-ggg-g-uuguagg-acacucu-guacggag-uuacaa-aggaacg-aggua---gaugaagaggucuggaaa-ggcccgccauag---gaggu-aacag-cccugua-gucaaaac----uucgu--ucu---cuccugagugg-auccuga-------------------------------------------------------------------------------------------------------------------------------guacggcgga------acacgug--aaauuccguc-ggaauc-cgggaggacc-aucucc-caaggc-uaaau----acucccuagugaccgau---agugaaccaguacc-gug--agggaaaggug-aaaagcaccccgg-aaggggagu-gaaagagauccugaaacc--gugugcc-uacaaguag-ucaga-gcccguu--aacgggu--gau-ggcgugcc--uuuuguagaa-ug-aac-cggcgaguuacg-auc-ccgugcaag-guuaag-cagaagaugcgga-gccgcagcg-aa-agcgagu-c-ugaaua-gggcgaauu---gaguacg-uggucguag-acccgaaaccagg--ugaucuacccau-gucca-----gggugaag-uuc-a-gguaaca-cugaauggagg--cccgaaccc----acgcacguug-aaaagugc-ggggaugaggugu-ggg------------------uaggggug-aaaugcc-aaucgaaccu----ggagau-agcu-gguucuc-uccgaaauagcuuua-gggcuagccucaag-guaagagucucgga--------------gguag-agcacugau------------------------------------------------------uggac-uaggggccccuacc-ggguuacc-gaauucaguc-aaacu-ccgaaug-ccgaugac------------------------uuauccuugggaguc--agacugc------------gagugau-aag-aucc---guagucgaaa-gggaaacagcccagacc---gccagcuaa-gguccc---aaaguau-acguuaa--gugg-aaaaggauguggaguugcu---------uagacaa-ccagg-auguuggcuuag-aagcagc-cacca-uuuaaag-agugcg-uaauag---cucacuggucgagu-g-acucugcgccg--aaaauguacc-ggggcuaaacgu-----aucaccgaagcu--gcgg-acuguucuu-------cgaacagugguaggag-agcguu-cuaaggg--cugugaagc-aagaccggaa-ggacu-uguggagcgc-uu------------agaagugagaaugccgguau---gaguagcg-aaagaggggugagaa---uc-cccuccaccg----aau-gccu--aagguuuc-cugaggaa-ggcucgucc-gcuca-ggguuagucggga--ccuaagcc----gaggccgaaa-ggcgua-ggcgauggaua-acagg-uugauauucc---uguaccaccuc-c-ucaccauu---------------------------------------------------------------------------------------------------------------------------------------------------------------------------------------------------------------------------------------------------------------------------------------------------------------------------------------------------------------------------------------------------------------------------------ugagcaau-ggggggacgcaggaggau-------aggguaagcg-cgguauugg-auauccgcgu-----ccaa--gcaguu---aggcugggaaaua---ggcaaauccguuu--cccgu-gaaggcug-agcu----gugaug-gcgagcga---auuauaguagcgaaguuccu---------gauuccaca-cugccaagaaa--agccucuagcga-ggu--gagaggugcc-cguaccgc-aaaccgacacagguag-gcga---ggagagaauccu-aaggugaucgag-ag-aacucu-cguuaagg----aacucgg-c------aaaaug-a-ccccgu-aacuucgg-gagaa-ggggugcu-cuguuagggugc-aagcccgagagag-ccgc--agugaaua-gg-cccag-gcga-cug-uuuag-caaaaac--acaggu-c-----ucugcgaagccgu---aaggcg-aagua-uaggg-gcu-------------------------------------------------------------------------------------------------------------------------------------------------------------------------------------gacgccu--g-cccggugcu-gga--------agguuaagagg-agcgc-uua-gcgu--aagc-gaaggugcgaauu-gaagcccca-gu-aaacggcg--gccg--uaacuau-aacggu--ccuaa-gguagcgaaauucc-uug--ucggg-uaag---uu-ccga---cccg--cacg-aaa---ggcgc-aacgaucu-gggcacugucucaacg--agagacucg-gugaaa-uuauaguaccu-gu--gaagau-gcagguua-cccg-cgaca-ggacggaaaga-cccc--gugg-agcuuu-acugcagccugauauugaa-ug-uugguac-ag-cuugua-cagga-uagguaggagcc-uu--ggaaaccgga-gcgccagc-uuc-gguggaggca----ucgguggga--------------uacuacccu---ggcugu-auugacc-uucu-aacccgccg-cccuu-aucgggcggg-ga-gacagug-ucaggu--gggcag-uuugacu-ggggc--gguc---gccuc-cuaaa-aggu-----------aacggagg--cgccc-aaagguucccuc-agaaugguu-gg-aaauca-uucgcagagugu-aaaggcacaa-gggagcuug-acugcgaga----ccu-acaagucgagc-ag--ggacg-aaaguc-gggcuuagugau-ccggu-gg---uuccgc-augg-aagg-gccaucgcuc--aacggauaaaagc-uacccc---ggggauaacaggc-uuauc--uc-ccccaagag--uccacauc--gacgggg-agguuugg---ca-----ccucga-ugucggcuca-ucgcauccu------------------------------------------gg-ggc---uguagu-cgg--u-cccaaggguu-ggg-cuguucgcccauua-aagcgguacgcg-agcuggguucag-aacgucgu-gagacaguuc-ggucccuauccgucgc--gggcgcaggaaa-uuugagaggag-cuguccuuaguacga-gaggacc-gggauggacgcaccgcugg-ugua-ccaguug-uucugccaagg-----gcaucgcuggg-uagcuaugugc-ggacgggauaagugcugaaagcaucuaag-caugaag-ccccccucaa-gaugagauuucccauucc-gc------------------------------aaggaagu-aagauccc----------------------------ugaaaga-ugaucagguugauag-gucugaggu-ggaagugu-ggcgaca-cauggagcugacagauacuaaucgaucgaggacuuaaccaauuu-----------------------------------------\n"
          ]
        }
      ]
    },
    {
      "cell_type": "markdown",
      "source": [],
      "metadata": {
        "id": "bPc2zwBSBDhL"
      }
    },
    {
      "cell_type": "code",
      "execution_count": 259,
      "metadata": {
        "colab": {
          "base_uri": "https://localhost:8080/"
        },
        "id": "L9SjIhGI5tvw",
        "outputId": "48078e10-255e-454b-fbb4-ef0cefd3ab9e"
      },
      "outputs": [
        {
          "output_type": "stream",
          "name": "stdout",
          "text": [
            "ConvAutoencoder(\n",
            "  (encoder): Sequential(\n",
            "    (0): Conv1d(6, 16, kernel_size=(3,), stride=(1,), padding=(1,))\n",
            "    (1): ReLU(inplace=True)\n",
            "    (2): MaxPool1d(kernel_size=2, stride=2, padding=0, dilation=1, ceil_mode=False)\n",
            "    (3): Conv1d(16, 8, kernel_size=(3,), stride=(1,), padding=(1,))\n",
            "    (4): ReLU(inplace=True)\n",
            "    (5): MaxPool1d(kernel_size=2, stride=2, padding=0, dilation=1, ceil_mode=False)\n",
            "  )\n",
            "  (decoder): Sequential(\n",
            "    (0): ConvTranspose1d(8, 16, kernel_size=(4,), stride=(2,), padding=(1,))\n",
            "    (1): ReLU(inplace=True)\n",
            "    (2): ConvTranspose1d(16, 6, kernel_size=(3,), stride=(2,), padding=(1,), output_padding=(1,))\n",
            "    (3): Sigmoid()\n",
            "  )\n",
            "  (pad_encoder): ConstantPad1d(padding=(1, 0), value=0)\n",
            "  (pad_decoder): ConstantPad1d(padding=(0, 0), value=0)\n",
            ")\n"
          ]
        }
      ],
      "source": [
        "import torch\n",
        "import torch.nn as nn\n",
        "import torch.optim as optim\n",
        "\n",
        "# Define the autoencoder\n",
        "# class ConvAutoencoder(nn.Module):\n",
        "#     def __init__(self):\n",
        "#         super(ConvAutoencoder, self).__init__()\n",
        "\n",
        "#         # Encoding layers\n",
        "#         self.encoder = nn.Sequential(\n",
        "#             nn.Conv1d(6, 16, kernel_size=3, stride=1, padding=0),\n",
        "#             nn.ReLU(inplace=True),\n",
        "#             nn.MaxPool1d(2, stride=2),\n",
        "#             nn.Conv1d(16, 8, kernel_size=3, stride=1, padding=1),\n",
        "#             nn.ReLU(inplace=True),\n",
        "#             nn.MaxPool1d(2, stride=2)\n",
        "#         )\n",
        "\n",
        "#         # Decoding layers\n",
        "#         self.decoder = nn.Sequential(\n",
        "#             nn.ConvTranspose1d(8, 16, kernel_size=4, stride=2, padding=1),\n",
        "#             nn.ReLU(inplace=True),\n",
        "#             nn.ConvTranspose1d(16, 6, kernel_size=3, stride=2, padding=0, output_padding=1), #, output_padding=1),\n",
        "#             nn.Sigmoid()\n",
        "#         )\n",
        "\n",
        "#     def forward(self, x):\n",
        "#         x = self.encoder(x)\n",
        "#         x = self.decoder(x)\n",
        "#         return x\n",
        "\n",
        "class ConvAutoencoder(nn.Module):\n",
        "    def __init__(self, input_length):\n",
        "        super(ConvAutoencoder, self).__init__()\n",
        "        self.input_length = input_length\n",
        "        \n",
        "        # Encoding layers\n",
        "        self.encoder = nn.Sequential(\n",
        "            nn.Conv1d(6, 16, kernel_size=3, stride=1, padding=1),\n",
        "            nn.ReLU(inplace=True),\n",
        "            nn.MaxPool1d(2, stride=2),\n",
        "            nn.Conv1d(16, 8, kernel_size=3, stride=1, padding=1),\n",
        "            nn.ReLU(inplace=True),\n",
        "            nn.MaxPool1d(2, stride=2)\n",
        "        )\n",
        "\n",
        "        # Decoding layers\n",
        "        self.decoder = nn.Sequential(\n",
        "            nn.ConvTranspose1d(8, 16, kernel_size=4, stride=2, padding=1),\n",
        "            nn.ReLU(inplace=True),\n",
        "            nn.ConvTranspose1d(16, 6, kernel_size=3, stride=2, padding=1, output_padding=1),\n",
        "            nn.Sigmoid()\n",
        "        )\n",
        "\n",
        "        # Calculate padding sizes\n",
        "        encoder_padding = (input_length - 1) % 2\n",
        "        decoder_padding = (input_length % 2) * 2\n",
        "\n",
        "        # Initialize padding layers\n",
        "        self.pad_encoder = nn.ConstantPad1d((encoder_padding, 0), 0)\n",
        "        self.pad_decoder = nn.ConstantPad1d((0, decoder_padding), 0)\n",
        "\n",
        "        # Initialize weights\n",
        "        self.apply(self.init_weights)\n",
        "\n",
        "    def init_weights(self, m):\n",
        "        if isinstance(m, nn.Conv1d) or isinstance(m, nn.ConvTranspose1d):\n",
        "            nn.init.kaiming_normal_(m.weight)\n",
        "\n",
        "    def forward(self, x):\n",
        "        # Encoding layers\n",
        "        x = self.pad_encoder(x)\n",
        "        x = self.encoder(x)\n",
        "\n",
        "        # Decoding layers\n",
        "        x = self.decoder(x)\n",
        "        x = self.pad_decoder(x)\n",
        "\n",
        "        return x\n",
        "\n",
        "\n",
        "\n",
        "# Instantiate the model\n",
        "model = ConvAutoencoder(input_length = alignment_length)\n",
        "print(model)\n"
      ]
    },
    {
      "cell_type": "markdown",
      "source": [
        "## Loading DNA data and transforming it to one-hot encoded data\n",
        "\n"
      ],
      "metadata": {
        "id": "SJfqgcVs_i7d"
      }
    },
    {
      "cell_type": "markdown",
      "source": [],
      "metadata": {
        "id": "r4Dewn8x_fc3"
      }
    },
    {
      "cell_type": "code",
      "source": [
        "class SequenceDataset(torch.utils.data.Dataset):\n",
        "    def __init__(self, sequences):\n",
        "        self.sequences = sequences\n",
        "        \n",
        "    def __getitem__(self, index):\n",
        "        return torch.tensor(self.sequences[index]).float()\n",
        "    \n",
        "    def __len__(self):\n",
        "        return len(self.sequences)\n"
      ],
      "metadata": {
        "id": "5-JRlHZCSNGw"
      },
      "execution_count": 260,
      "outputs": []
    },
    {
      "cell_type": "code",
      "source": [
        "from torch.utils.data import DataLoader\n",
        "\n",
        "# Create dataset\n",
        "dataset = SequenceDataset(flatted_sequence)\n",
        "\n",
        "# Create dataloader\n",
        "dataloader = DataLoader(dataset, batch_size=32, shuffle=True)\n"
      ],
      "metadata": {
        "id": "vI-RdDRfSPpT"
      },
      "execution_count": 261,
      "outputs": []
    },
    {
      "cell_type": "code",
      "source": [
        "dataset = SequenceDataset(flatted_sequence)\n",
        "print(\"Length of dataset:\", len(dataset))\n",
        "\n",
        "sample = dataset[0]\n",
        "print(\"Shape of sample:\", sample.shape)\n",
        "#print(dataset[0])\n",
        "print(model)"
      ],
      "metadata": {
        "colab": {
          "base_uri": "https://localhost:8080/"
        },
        "id": "HZVGIf77v_F4",
        "outputId": "fcb349ba-7db0-4657-a165-bdd43ab1df13"
      },
      "execution_count": 262,
      "outputs": [
        {
          "output_type": "stream",
          "name": "stdout",
          "text": [
            "Length of dataset: 2626\n",
            "Shape of sample: torch.Size([1500, 6])\n",
            "ConvAutoencoder(\n",
            "  (encoder): Sequential(\n",
            "    (0): Conv1d(6, 16, kernel_size=(3,), stride=(1,), padding=(1,))\n",
            "    (1): ReLU(inplace=True)\n",
            "    (2): MaxPool1d(kernel_size=2, stride=2, padding=0, dilation=1, ceil_mode=False)\n",
            "    (3): Conv1d(16, 8, kernel_size=(3,), stride=(1,), padding=(1,))\n",
            "    (4): ReLU(inplace=True)\n",
            "    (5): MaxPool1d(kernel_size=2, stride=2, padding=0, dilation=1, ceil_mode=False)\n",
            "  )\n",
            "  (decoder): Sequential(\n",
            "    (0): ConvTranspose1d(8, 16, kernel_size=(4,), stride=(2,), padding=(1,))\n",
            "    (1): ReLU(inplace=True)\n",
            "    (2): ConvTranspose1d(16, 6, kernel_size=(3,), stride=(2,), padding=(1,), output_padding=(1,))\n",
            "    (3): Sigmoid()\n",
            "  )\n",
            "  (pad_encoder): ConstantPad1d(padding=(1, 0), value=0)\n",
            "  (pad_decoder): ConstantPad1d(padding=(0, 0), value=0)\n",
            ")\n"
          ]
        }
      ]
    },
    {
      "cell_type": "code",
      "source": [
        "import matplotlib.pyplot as plt\n",
        "\n",
        "# Set the device to GPU if available\n",
        "device = torch.device(\"cuda\" if torch.cuda.is_available() else \"cpu\")\n",
        "\n",
        "# Define the loss function\n",
        "criterion = nn.MSELoss()\n",
        "\n",
        "# Define the optimizer\n",
        "optimizer = optim.Adam(model.parameters(), lr=0.001)\n",
        "\n",
        "# Set the number of epochs\n",
        "n_epochs = 10\n",
        "\n",
        "# Define the batch size\n",
        "batch_size = 32\n",
        "\n",
        "# Define the dataloader\n",
        "dataset = SequenceDataset(flatted_sequence)\n",
        "dataloader = torch.utils.data.DataLoader(dataset, batch_size=batch_size, shuffle=True)\n",
        "\n",
        "# Train the model\n",
        "train_losses = []\n",
        "for epoch in range(1, n_epochs+1):\n",
        "    train_loss = 0.0\n",
        "    for batch_idx, data in enumerate(dataloader):\n",
        "        # Transform the data tensor to have the shape (batch_size, n_channels, sequence_length)\n",
        "        data = data.permute(0, 2, 1)\n",
        "        data = data.float().to(device)\n",
        "        \n",
        "        # Zero the gradients\n",
        "        optimizer.zero_grad()\n",
        "        \n",
        "        # Forward pass\n",
        "        outputs = model(data)\n",
        "        \n",
        "        # Compute the loss\n",
        "        loss = criterion(outputs, data)\n",
        "        \n",
        "        # Backward pass and optimization\n",
        "        loss.backward()\n",
        "        optimizer.step()\n",
        "        \n",
        "        # Update the training loss\n",
        "        train_loss += loss.item() * data.size(0)\n",
        "    \n",
        "    # Print the average training loss for the epoch\n",
        "    train_loss /= len(dataloader.dataset)\n",
        "    print('Epoch: {} \\tTraining Loss: {:.6f}'.format(epoch, train_loss))\n",
        "    \n",
        "    # Append the training loss to the list\n",
        "    train_losses.append(train_loss)\n",
        "    \n",
        "\n",
        "\n",
        "\n"
      ],
      "metadata": {
        "colab": {
          "base_uri": "https://localhost:8080/"
        },
        "id": "DpIorpkESgXK",
        "outputId": "64d06b17-9d20-4832-9c13-2b917f5bf6a9"
      },
      "execution_count": 266,
      "outputs": [
        {
          "output_type": "stream",
          "name": "stdout",
          "text": [
            "Epoch: 1 \tTraining Loss: 0.053378\n",
            "Epoch: 2 \tTraining Loss: 0.047496\n",
            "Epoch: 3 \tTraining Loss: 0.042311\n",
            "Epoch: 4 \tTraining Loss: 0.038065\n",
            "Epoch: 5 \tTraining Loss: 0.034674\n",
            "Epoch: 6 \tTraining Loss: 0.031876\n",
            "Epoch: 7 \tTraining Loss: 0.029583\n",
            "Epoch: 8 \tTraining Loss: 0.027847\n",
            "Epoch: 9 \tTraining Loss: 0.026397\n",
            "Epoch: 10 \tTraining Loss: 0.025172\n"
          ]
        }
      ]
    },
    {
      "cell_type": "code",
      "source": [
        "# Plot the loss\n",
        "plt.plot(train_losses)\n",
        "plt.xlabel('Epoch')\n",
        "plt.ylabel('Training Loss')\n",
        "plt.show()"
      ],
      "metadata": {
        "colab": {
          "base_uri": "https://localhost:8080/",
          "height": 449
        },
        "id": "7oB5c8KmEYvI",
        "outputId": "0699afa3-93dd-4998-fa4e-4a97959ec312"
      },
      "execution_count": 267,
      "outputs": [
        {
          "output_type": "display_data",
          "data": {
            "text/plain": [
              "<Figure size 640x480 with 1 Axes>"
            ],
            "image/png": "[encoded data removed]"
          },
          "metadata": {}
        }
      ]
    },
    {
      "cell_type": "code",
      "source": [
        "import matplotlib.pyplot as plt\n",
        "\n",
        "# Set the model to evaluation mode\n",
        "model.eval()\n",
        "\n",
        "# Create a list to store the latent vectors\n",
        "latent_vectors = []\n",
        "labels = []\n",
        "\n",
        "# Iterate over the sequences in the dataset and obtain their latent vectors\n",
        "for sequence, label in zip(flatted_sequence, sequence_labels):\n",
        "    # Transform the sequence tensor to have the shape (1, n_channels, sequence_length)\n",
        "    sequence = torch.from_numpy(sequence).unsqueeze(0).permute(0, 2, 1)\n",
        "    sequence = sequence.float().to(device)\n",
        "\n",
        "    # Obtain the latent vector\n",
        "    latent_vector = model.encoder(sequence).detach().cpu().numpy()\n",
        "\n",
        "    # Add the latent vector to the list\n",
        "    latent_vectors.append(latent_vector)\n",
        "    labels.append(label)\n",
        "\n",
        "\n",
        "  \n",
        "print(len(latent_vectors[0][0][0]))\n",
        "print(len(latent_vectors[0][0]))\n",
        "print(len(latent_vectors[0]))\n",
        "print(len(latent_vectors))\n",
        "#!pip install umap-learn\n",
        "import umap.umap_ as umap\n",
        "\n",
        "# Convert the list of latent vectors to a 2D numpy array\n",
        "latent_vectors_array = np.array(latent_vectors)\n",
        "print(latent_vectors_array.shape)\n",
        "latent_vectors_array_reshaped = latent_vectors_array.reshape(len(latent_vectors), -1)\n",
        "print(latent_vectors_array_reshaped.shape)\n",
        "\n",
        "# Fit the UMAP model to the latent vectors\n",
        "umap_model = umap.UMAP(n_neighbors=10, min_dist=0.1, random_state=42)\n",
        "umap_embedding = umap_model.fit_transform(latent_vectors_array_reshaped)\n",
        "\n",
        "\n",
        "\n",
        "\n"
      ],
      "metadata": {
        "colab": {
          "base_uri": "https://localhost:8080/"
        },
        "id": "Lm5XH0f-14JB",
        "outputId": "831a94d7-eee0-472f-b914-e645dabbcae0"
      },
      "execution_count": 264,
      "outputs": [
        {
          "output_type": "stream",
          "name": "stdout",
          "text": [
            "375\n",
            "8\n",
            "1\n",
            "2626\n",
            "(2626, 1, 8, 375)\n",
            "(2626, 3000)\n"
          ]
        }
      ]
    },
    {
      "cell_type": "code",
      "source": [
        "# Create a scatter plot for each unique label\n",
        "unique_labels = set(labels)\n",
        "color_dict = {label: plt.cm.tab20(i) for i, label in enumerate(unique_labels)}\n",
        "\n",
        "fig, ax = plt.subplots()\n",
        "for label in unique_labels:\n",
        "    # Get the indices of the data points with this label\n",
        "    indices = [i for i, x in enumerate(labels) if x == label]\n",
        "    \n",
        "    # Get the corresponding UMAP coordinates and colors\n",
        "    coords = umap_embedding[indices]\n",
        "    color = color_dict[label]\n",
        "    \n",
        "    # Add the scatter plot for this label to the axes\n",
        "    ax.scatter(coords[:, 0], coords[:, 1], color=color, label=label)\n",
        "\n",
        "# Add a legend to the plot\n",
        "ax.legend()\n",
        "\n",
        "# Show the plot\n",
        "plt.show()"
      ],
      "metadata": {
        "colab": {
          "base_uri": "https://localhost:8080/",
          "height": 430
        },
        "id": "JGX0vxfj-zt7",
        "outputId": "b7a523d4-d7e3-4643-e116-609e3fe2cbf3"
      },
      "execution_count": 265,
      "outputs": [
        {
          "output_type": "display_data",
          "data": {
            "text/plain": [
              "<Figure size 640x480 with 1 Axes>"
            ],
            "image/png": "[encoded data removed]"
          },
          "metadata": {}
        }
      ]
    },
    {
      "cell_type": "code",
      "source": [
        "flatted_sequence[1]"
      ],
      "metadata": {
        "id": "HX7hA1Ey2ynm"
      },
      "execution_count": null,
      "outputs": []
    }
  ]
}